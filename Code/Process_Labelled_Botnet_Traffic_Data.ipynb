{
 "cells": [
  {
   "cell_type": "code",
   "execution_count": null,
   "metadata": {},
   "outputs": [],
   "source": [
    "import pandas as pd\n",
    "import numpy as np\n",
    "from sklearn.neighbors import LocalOutlierFactor\n",
    "\n",
    "import matplotlib.pyplot as plt\n",
    "%matplotlib inline"
   ]
  },
  {
   "cell_type": "markdown",
   "metadata": {},
   "source": [
    "### Load Data"
   ]
  },
  {
   "cell_type": "code",
   "execution_count": null,
   "metadata": {},
   "outputs": [],
   "source": [
    "%%time\n",
    "#print('script started!',flush=True)\n",
    "data = pd.read_csv('../Data/ISCX_Botnet_Labelled.csv')"
   ]
  },
  {
   "cell_type": "code",
   "execution_count": null,
   "metadata": {},
   "outputs": [],
   "source": [
    "data.shape"
   ]
  },
  {
   "cell_type": "markdown",
   "metadata": {},
   "source": [
    "### Check class distribution .. is it balanced?"
   ]
  },
  {
   "cell_type": "code",
   "execution_count": null,
   "metadata": {},
   "outputs": [],
   "source": [
    "# Explore BotNet_Label values\n",
    "s = data['BotNet_Label'].value_counts()"
   ]
  },
  {
   "cell_type": "code",
   "execution_count": null,
   "metadata": {},
   "outputs": [],
   "source": [
    "s"
   ]
  },
  {
   "cell_type": "code",
   "execution_count": null,
   "metadata": {},
   "outputs": [],
   "source": [
    "# get a list of labels where the number of instances is > 10\n",
    "labels = list(s[s > 10].index)"
   ]
  },
  {
   "cell_type": "code",
   "execution_count": null,
   "metadata": {},
   "outputs": [],
   "source": [
    "# remove BotNets where the number of instances is < 10\n",
    "data = data[data['BotNet_Label'].isin(labels)]\n",
    "data['BotNet_Label'].value_counts()"
   ]
  },
  {
   "cell_type": "code",
   "execution_count": null,
   "metadata": {},
   "outputs": [],
   "source": [
    "#data.columns"
   ]
  },
  {
   "cell_type": "markdown",
   "metadata": {},
   "source": [
    "### Missing value imputation"
   ]
  },
  {
   "cell_type": "code",
   "execution_count": null,
   "metadata": {},
   "outputs": [],
   "source": [
    "## FlowGenerator uses ? for a missing value .. let's replace it with NaN\n",
    "data.replace('?', np.NaN,inplace=True)\n",
    "print('symbol ? replaced with NaN',flush=True)\n",
    "# using isnull() function  \n",
    "data.isnull().values.any()"
   ]
  },
  {
   "cell_type": "code",
   "execution_count": null,
   "metadata": {},
   "outputs": [],
   "source": [
    "data.isnull().sum().sum()"
   ]
  },
  {
   "cell_type": "code",
   "execution_count": null,
   "metadata": {},
   "outputs": [],
   "source": [
    "%%time\n",
    "## Only run this code if your data contains NaNs\n",
    "## Replace NaNs with the median of the column\n",
    "\n",
    "#for c in data.columns:\n",
    "#    if c != 'BotNet_Label':\n",
    "#        data[c] = pd.to_numeric(data[c], errors='coerce')\n",
    "#        data[c] = data[c].replace(np.NaN,data[c].median())\n",
    "\n",
    "\n",
    "#save data so we can use it later\n",
    "#data.to_csv('../Data/no_nans.csv',index=False)\n",
    "#print('NaN values replaced with median in %f'%(t2-t1),flush=True)"
   ]
  },
  {
   "cell_type": "markdown",
   "metadata": {},
   "source": [
    "### Plot Correlation Matrix to Check for Highly Correlated Features"
   ]
  },
  {
   "cell_type": "code",
   "execution_count": null,
   "metadata": {},
   "outputs": [],
   "source": [
    "## use all columns except protocol and ports to save time\n",
    "tmp_df = data[['Flow Duration', 'Flow Bytes/s', 'Flow Packets/s','Flow IAT Mean', 'Flow IAT Std', 'Flow IAT Max', \n",
    "'Flow IAT Min','Fwd IAT Mean', 'Fwd IAT Std', 'Fwd IAT Max', 'Fwd IAT Min','Bwd IAT Mean',\n",
    "'Bwd IAT Std', 'Bwd IAT Max', 'Bwd IAT Min','Active Mean', 'Active Std', 'Active Max', 'Active Min', 'Idle Mean',\n",
    "       'Idle Std', 'Idle Max', 'Idle Min']]"
   ]
  },
  {
   "cell_type": "code",
   "execution_count": null,
   "metadata": {
    "scrolled": false
   },
   "outputs": [],
   "source": [
    "f = plt.figure(figsize=(19, 15))\n",
    "plt.matshow(tmp_df.corr(), fignum=f.number)\n",
    "plt.xticks(range(tmp_df.shape[1]), tmp_df.columns, fontsize=14, rotation=45)\n",
    "plt.yticks(range(tmp_df.shape[1]), tmp_df.columns, fontsize=14)\n",
    "cb = plt.colorbar()\n",
    "cb.ax.tick_params(labelsize=14)\n",
    "plt.title('Correlation Matrix', fontsize=16);"
   ]
  },
  {
   "cell_type": "markdown",
   "metadata": {},
   "source": [
    "#### Do it Programmatically"
   ]
  },
  {
   "cell_type": "code",
   "execution_count": null,
   "metadata": {},
   "outputs": [],
   "source": [
    "# Create correlation matrix\n",
    "corr_matrix = tmp_df.corr().abs()\n",
    "\n",
    "# Select upper triangle of correlation matrix\n",
    "upper = corr_matrix.where(np.triu(np.ones(corr_matrix.shape), k=1).astype(np.bool))\n",
    "\n",
    "# Find index of feature columns with correlation greater than 0.95\n",
    "to_drop = [column for column in upper.columns if any(upper[column] > 0.95)]\n",
    "to_drop"
   ]
  },
  {
   "cell_type": "markdown",
   "metadata": {},
   "source": [
    "#### Do you want to drop highly correlated features?"
   ]
  },
  {
   "cell_type": "code",
   "execution_count": null,
   "metadata": {},
   "outputs": [],
   "source": [
    "#remove highly correlated columns\n",
    "#data.drop(to_drop,axis=1, inplace=True)"
   ]
  },
  {
   "cell_type": "code",
   "execution_count": null,
   "metadata": {},
   "outputs": [],
   "source": [
    "data.columns"
   ]
  },
  {
   "cell_type": "code",
   "execution_count": null,
   "metadata": {},
   "outputs": [],
   "source": [
    "%%time\n",
    "\n",
    "Y = data['BotNet_Label']\n",
    "data.drop('BotNet_Label', axis=1, inplace=True)\n",
    "\n",
    "#remove single quote from column name\n",
    "#rm_quote = lambda x: x.replace('\\'', '')\n",
    "#cols = data.columns\n",
    "#data.columns = [rm_quote(x) for x in cols]"
   ]
  },
  {
   "cell_type": "markdown",
   "metadata": {},
   "source": [
    "### Run Outlier Detection and Removal?"
   ]
  },
  {
   "cell_type": "code",
   "execution_count": null,
   "metadata": {},
   "outputs": [],
   "source": [
    "%%time\n",
    "outliers_fraction = 0.5\n",
    "rng = np.random.RandomState(42)\n",
    "\n",
    "# fit the model\n",
    "#clf = IsolationForest(contamination=outliers_fraction, random_state=rng, n_jobs=60)\n",
    "#clf = EllipticEnvelope(contamination=outliers_fraction)\n",
    "clf = LocalOutlierFactor(n_neighbors=25, contamination=outliers_fraction)\n",
    "y_pred = clf.fit_predict(data)#only for LocalOutlierFactor\n",
    "\n",
    "\n",
    "data['Outlier'] = y_pred\n",
    "data['BotNet_Label'] = Y\n",
    "\n",
    "outlier_mask = data['Outlier'].isin([-1])\n",
    "\n",
    "print('To apply mask and removed outliters',flush=True)\n",
    "data = data.loc[~outlier_mask]\n",
    "data.drop('Outlier', axis=1, inplace=True)\n",
    "print('data to be saved',flush=True)\n",
    "#data.to_csv('../Data/no_outliers.csv',index=False)\n"
   ]
  },
  {
   "cell_type": "code",
   "execution_count": null,
   "metadata": {},
   "outputs": [],
   "source": [
    "data.shape"
   ]
  },
  {
   "cell_type": "code",
   "execution_count": null,
   "metadata": {},
   "outputs": [],
   "source": [
    "#save subdatasets\n",
    "#labels = list(data['BotNet_Label'].unique())\n",
    "#for label in labels:\n",
    "#    tlbl = label.replace(\" \", \"_\")#if label has space replace it with _\n",
    "#    tdata = data[data['BotNet_Label']==label]\n",
    "#    tdata.to_csv('../Data/Bot_'+tlbl+'.csv',index=False)\n",
    "#    print('Done: ',label,len(tdata))\n",
    "\n",
    "#print('all done', flush=True)"
   ]
  },
  {
   "cell_type": "code",
   "execution_count": null,
   "metadata": {},
   "outputs": [],
   "source": [
    "data['BotNet_Label'].value_counts()"
   ]
  },
  {
   "cell_type": "code",
   "execution_count": null,
   "metadata": {},
   "outputs": [],
   "source": [
    "# Explore BotNet_Label values\n",
    "s = data['BotNet_Label'].value_counts()\n",
    "\n",
    "# get a list of labels where the number of instances is > 10\n",
    "labels = list(s[s > 10].index)\n",
    "\n",
    "# remove BotNets where the number of instances is < 10\n",
    "data = data[data['BotNet_Label'].isin(labels)]\n",
    "data['BotNet_Label'].value_counts()"
   ]
  },
  {
   "cell_type": "code",
   "execution_count": null,
   "metadata": {},
   "outputs": [],
   "source": [
    "#Y.value_counts()"
   ]
  },
  {
   "cell_type": "markdown",
   "metadata": {},
   "source": [
    "### SMOTE (Synthetic Minority Oversampling Technique) – Oversampling\n",
    "\n",
    "* It aims to balance class distribution by randomly increasing minority class examples by replicating them.\n",
    "* SMOTE synthesises new minority instances between existing minority instances. \n",
    "* It generates the virtual training records by linear interpolation for the minority class.\n",
    "* These synthetic training records are generated by randomly selecting one or more of the k-nearest neighbors for each example in the minority class. "
   ]
  },
  {
   "cell_type": "code",
   "execution_count": null,
   "metadata": {},
   "outputs": [],
   "source": [
    "#!pip install -U imbalanced-learn"
   ]
  },
  {
   "cell_type": "code",
   "execution_count": null,
   "metadata": {},
   "outputs": [],
   "source": [
    "%%time\n",
    "#from imblearn.over_sampling import SMOTE \n",
    "#sm = SMOTE(random_state = 2) \n",
    "# separate features from class variable\n",
    "y = data['BotNet_Label']\n",
    "X = data.drop('BotNet_Label', axis=1)\n",
    "\n",
    "X, y = sm.fit_resample(X, y)"
   ]
  },
  {
   "cell_type": "code",
   "execution_count": null,
   "metadata": {},
   "outputs": [],
   "source": [
    "y.shape"
   ]
  },
  {
   "cell_type": "code",
   "execution_count": null,
   "metadata": {},
   "outputs": [],
   "source": [
    "#type(X)"
   ]
  },
  {
   "cell_type": "code",
   "execution_count": null,
   "metadata": {},
   "outputs": [],
   "source": [
    "y.value_counts()"
   ]
  },
  {
   "cell_type": "code",
   "execution_count": null,
   "metadata": {},
   "outputs": [],
   "source": [
    "targets = np.unique(y).tolist()\n",
    "len(targets)"
   ]
  },
  {
   "cell_type": "markdown",
   "metadata": {},
   "source": [
    "### Principal Component Analysis (PCA)"
   ]
  },
  {
   "cell_type": "code",
   "execution_count": null,
   "metadata": {},
   "outputs": [],
   "source": [
    "# Apply StandardScaler\n",
    "from sklearn.preprocessing import StandardScaler\n",
    "X = StandardScaler().fit_transform(X)"
   ]
  },
  {
   "cell_type": "code",
   "execution_count": null,
   "metadata": {},
   "outputs": [],
   "source": [
    "# Apply PCA from sklearn\n",
    "from sklearn.decomposition import PCA\n",
    "pca = PCA(n_components=2)\n",
    "principal_components = pca.fit_transform(X)\n",
    "# create a datarame that contains the PCA components\n",
    "principal_df = pd.DataFrame(data = principal_components, columns=['principal component 1','principal component 2'])"
   ]
  },
  {
   "cell_type": "code",
   "execution_count": null,
   "metadata": {},
   "outputs": [],
   "source": [
    "# add the class label to the PCA components\n",
    "principal_df['BotNet_Label'] = y"
   ]
  },
  {
   "cell_type": "code",
   "execution_count": null,
   "metadata": {},
   "outputs": [],
   "source": [
    "principal_df.head()"
   ]
  },
  {
   "cell_type": "code",
   "execution_count": null,
   "metadata": {},
   "outputs": [],
   "source": [
    "principal_df['BotNet_Label'].value_counts()"
   ]
  },
  {
   "cell_type": "code",
   "execution_count": null,
   "metadata": {
    "scrolled": false
   },
   "outputs": [],
   "source": [
    "from itertools import cycle\n",
    "\n",
    "fig = plt.figure(figsize = (8,8))\n",
    "ax = fig.add_subplot(1,1,1) \n",
    "ax.set_xlabel('Principal Component 1', fontsize = 15)\n",
    "ax.set_ylabel('Principal Component 2', fontsize = 15)\n",
    "ax.set_title('2 component PCA', fontsize = 20)\n",
    "#targets = ['Neris', 'Normal', 'TBot', 'RBot']\n",
    "#colors = ['r', 'g', 'b','c']\n",
    "\n",
    "\n",
    "cycol = cycle('bgrcmk')\n",
    "\n",
    "    \n",
    "for target in targets:\n",
    "    indicesToKeep = principal_df['BotNet_Label'] == target\n",
    "    ax.scatter(principal_df.loc[indicesToKeep, 'principal component 1']\n",
    "               , principal_df.loc[indicesToKeep, 'principal component 2']\n",
    "               , c = next(cycol)\n",
    "               , s = 50)\n",
    "ax.legend(targets)\n",
    "ax.grid()"
   ]
  },
  {
   "cell_type": "code",
   "execution_count": null,
   "metadata": {},
   "outputs": [],
   "source": [
    "targets"
   ]
  },
  {
   "cell_type": "markdown",
   "metadata": {},
   "source": [
    "### Use your Favourite Classifier to Make Predictions"
   ]
  },
  {
   "cell_type": "code",
   "execution_count": null,
   "metadata": {},
   "outputs": [],
   "source": [
    "from sklearn.model_selection import train_test_split\n",
    "from sklearn.naive_bayes import GaussianNB\n",
    "\n",
    "X_train, X_test, y_train, y_test = train_test_split(X, y, test_size=0.25, stratify = y, random_state=0)\n",
    "gnb = GaussianNB()\n",
    "gnb.fit(X_train, y_train)"
   ]
  },
  {
   "cell_type": "code",
   "execution_count": null,
   "metadata": {},
   "outputs": [],
   "source": [
    "%%time\n",
    "#from sklearn.metrics import confusion_matrix\n",
    "#import matplotlib.pyplot as plt\n",
    "#import seaborn as sns\n",
    "\n",
    "y_pred = gnb.predict(X_test)\n",
    "\n",
    "#conf_mat = confusion_matrix(y_test, y_pred)\n",
    "# Plot confusion_matrix\n",
    "#fig, ax = plt.subplots(figsize=(15, 10))\n",
    "#sns.heatmap(conf_mat, annot=True, cmap = \"Set3\", fmt =\"d\",\n",
    "#xticklabels=targets, yticklabels=targets)\n",
    "#plt.ylabel('Actual')\n",
    "#plt.xlabel('Predicted')\n",
    "#plt.show()\n"
   ]
  },
  {
   "cell_type": "code",
   "execution_count": null,
   "metadata": {},
   "outputs": [],
   "source": [
    "from sklearn.metrics import accuracy_score\n",
    "\n",
    "print(\"Accuracy: \" , (accuracy_score(y_test, y_pred)))"
   ]
  },
  {
   "cell_type": "markdown",
   "metadata": {},
   "source": [
    "# Well Done!"
   ]
  },
  {
   "cell_type": "code",
   "execution_count": null,
   "metadata": {},
   "outputs": [],
   "source": []
  }
 ],
 "metadata": {
  "kernelspec": {
   "display_name": "Python 3 (ipykernel)",
   "language": "python",
   "name": "python3"
  },
  "language_info": {
   "codemirror_mode": {
    "name": "ipython",
    "version": 3
   },
   "file_extension": ".py",
   "mimetype": "text/x-python",
   "name": "python",
   "nbconvert_exporter": "python",
   "pygments_lexer": "ipython3",
   "version": "3.10.9"
  }
 },
 "nbformat": 4,
 "nbformat_minor": 2
}
